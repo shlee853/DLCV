{
  "nbformat": 4,
  "nbformat_minor": 0,
  "metadata": {
    "colab": {
      "name": "ML_Colab_Lab2_CNN_Sequential.ipynb",
      "private_outputs": true,
      "provenance": [],
      "collapsed_sections": [],
      "authorship_tag": "ABX9TyOCr0lwzRTiyse4xpeqa0S2",
      "include_colab_link": true
    },
    "kernelspec": {
      "name": "python3",
      "display_name": "Python 3"
    },
    "language_info": {
      "name": "python"
    },
    "accelerator": "TPU"
  },
  "cells": [
    {
      "cell_type": "markdown",
      "metadata": {
        "id": "view-in-github",
        "colab_type": "text"
      },
      "source": [
        "<a href=\"https://colab.research.google.com/github/shlee853/DLCV/blob/master/ML_Colab_Lab2_CNN_Sequential.ipynb\" target=\"_parent\"><img src=\"https://colab.research.google.com/assets/colab-badge.svg\" alt=\"Open In Colab\"/></a>"
      ]
    },
    {
      "cell_type": "markdown",
      "source": [
        "# CNN Sequential 모델을 이용한 MNIST 데이터 학습\n",
        "\n",
        "## 1. 라이브러리 설정\n",
        "### - 런타임 유형변경에서 하드웨어 가속은 TPU 사용으로 변경\n",
        "### - 런타임 다시시작 실행\n",
        "### - 텐서플로우 2.x 버전 사용\n"
      ],
      "metadata": {
        "id": "NidsAzCFZnPT"
      }
    },
    {
      "cell_type": "code",
      "source": [
        "%tensorflow_version 2.x\n",
        "\n",
        "from __future__ import absolute_import\n",
        "from __future__ import division\n",
        "from __future__ import print_function\n",
        "\n",
        "import tensorflow as tf \n",
        "from tensorflow import keras\n",
        "from tensorflow.keras.utils import to_categorical # one-hot 인코딩\n",
        "import numpy as np\n",
        "import matplotlib.pyplot as plt\n",
        "import os\n",
        "\n",
        "print(tf.__version__)     # 텐서플로우 버전확인 (colab의 기본버전은 1.15.0) --> 2.0 변경 \"%tensorflow_version 2.x\"\n",
        "print(keras.__version__)  # 케라스 버전확인\n"
      ],
      "metadata": {
        "id": "Y5FWE05gZ13p"
      },
      "execution_count": null,
      "outputs": []
    },
    {
      "cell_type": "markdown",
      "source": [
        "## 2. 하이퍼 파라메터 설정\n",
        "### - learning_rate = 0.001\n",
        "### - training_epochs = 50\n",
        "### - batch_size = 100"
      ],
      "metadata": {
        "id": "NUvZqIwuavLL"
      }
    },
    {
      "cell_type": "code",
      "source": [
        "learning_rate = 0.001\n",
        "training_epochs = 10\n",
        "batch_size = 100"
      ],
      "metadata": {
        "id": "63VpcSlya7gk"
      },
      "execution_count": null,
      "outputs": []
    },
    {
      "cell_type": "markdown",
      "source": [
        "##3. MNIST 데이터 불러오기"
      ],
      "metadata": {
        "id": "Ef0m3ROMbANq"
      }
    },
    {
      "cell_type": "code",
      "source": [
        "mnist = keras.datasets.mnist\n",
        "class_names = ['0', '1', '2', '3', '4', '5', '6', '7', '8', '9']\n",
        "\n",
        "# MNIST image load (trian, test)\n",
        "(train_images, train_labels), (test_images, test_labels) = mnist.load_data()    \n",
        "\n",
        "# 0~255 중 하나로 표현되는 입력 이미지들의 값을 1 이하가 되도록 정규화    \n",
        "train_images = train_images.astype(np.float32) / 255.\n",
        "test_images = test_images.astype(np.float32) / 255.\n",
        "\n",
        "# np.expand_dims 차원을 변경\n",
        "train_images = np.expand_dims(train_images, axis=-1)\n",
        "test_images = np.expand_dims(test_images, axis=-1)\n",
        "\n",
        "# label을 ont-hot encoding    \n",
        "train_labels = to_categorical(train_labels, 10)\n",
        "test_labels = to_categorical(test_labels, 10) "
      ],
      "metadata": {
        "id": "koO4tAAwbFr5"
      },
      "execution_count": null,
      "outputs": []
    },
    {
      "cell_type": "markdown",
      "source": [
        "##4. 학습모델 구성하기"
      ],
      "metadata": {
        "id": "rJ2fccLEbtAn"
      }
    },
    {
      "cell_type": "code",
      "source": [
        "def create_model():\n",
        "    model = keras.Sequential() # Sequential 모델 시작\n",
        "    model.add(keras.layers.Conv2D(filters=32, kernel_size=3, activation=tf.nn.relu, padding='SAME', input_shape=(28, 28, 1)))\n",
        "    model.add(keras.layers.MaxPool2D(padding='SAME'))\n",
        "    model.add(keras.layers.Conv2D(filters=64, kernel_size=3, activation=tf.nn.relu, padding='SAME'))\n",
        "    model.add(keras.layers.MaxPool2D(padding='SAME'))\n",
        "    model.add(keras.layers.Conv2D(filters=128, kernel_size=3, activation=tf.nn.relu, padding='SAME'))\n",
        "    model.add(keras.layers.MaxPool2D(padding='SAME'))\n",
        "    model.add(keras.layers.Flatten())\n",
        "    model.add(keras.layers.Dense(256, activation=tf.nn.relu))\n",
        "    model.add(keras.layers.Dropout(0.4))\n",
        "    model.add(keras.layers.Dense(10, activation=tf.nn.softmax))\n",
        "    return model"
      ],
      "metadata": {
        "id": "rbN0UV7ab1nO"
      },
      "execution_count": null,
      "outputs": []
    },
    {
      "cell_type": "code",
      "source": [
        "model = create_model() # 모델 함수를 model로 변경\n",
        "model.summary() # 모델에 대한 요약 출력해줌"
      ],
      "metadata": {
        "id": "YB_8igx0cOWE"
      },
      "execution_count": null,
      "outputs": []
    },
    {
      "cell_type": "code",
      "source": [
        "# 위에서 정한 모델을 그림으로(plot) 보여줌\n",
        "keras.utils.plot_model(model, to_file='model.png', show_shapes=True, show_layer_names=True) "
      ],
      "metadata": {
        "id": "s07Z4ZgJcZ7C"
      },
      "execution_count": null,
      "outputs": []
    },
    {
      "cell_type": "markdown",
      "source": [
        "##5. 학습과정\n"
      ],
      "metadata": {
        "id": "vHAeT0oSkl8g"
      }
    },
    {
      "cell_type": "code",
      "source": [
        "# CNN 모델 구조 확정하고 컴파일 진행\n",
        "model.compile(loss='categorical_crossentropy',       # crossentropy loss\n",
        "              optimizer='adam',                      # adam optimizer\n",
        "              metrics=['accuracy'])                  # 측정값 : accuracy\n",
        "\n",
        "# 학습실행\n",
        "history = model.fit(train_images, train_labels,       # 입력값\n",
        "          batch_size=batch_size,                      # 1회마다 배치마다 100개 프로세스 \n",
        "          epochs=training_epochs,                     # 50회 학습\n",
        "          verbose=1,                                  # verbose는 학습 중 출력되는 문구를 설정하는 것 \n",
        "          validation_data=(test_images, test_labels)) # test를 val로 사용\n",
        "          \n",
        "# test 값 결과 확인\n",
        "score = model.evaluate(test_images, test_labels, verbose=0) # verbose가 0 이면 ==== 움직이지 않고, 1이면 ==== 진행 바가 움직임\n",
        "print('Test loss:', score[0])\n",
        "print('Test accuracy:', score[1])"
      ],
      "metadata": {
        "id": "TF5faW3ikw11"
      },
      "execution_count": null,
      "outputs": []
    },
    {
      "cell_type": "markdown",
      "source": [
        "##6. 결과전시\n"
      ],
      "metadata": {
        "id": "BTd_YqW_mXHu"
      }
    },
    {
      "cell_type": "code",
      "source": [
        "import matplotlib.pyplot as plt\n",
        "import numpy as np\n",
        "import os\n",
        "\n",
        "# 모델 학습 후 정보가 담긴 history 내용을 토대로 선 그래프를 그리는 함수 설정\n",
        "\n",
        "def plot_acc(history, title=None):        # Accuracy(정확도) Visualization\n",
        "    # summarize history for accuracy\n",
        "    if not isinstance(history, dict):\n",
        "        history = history.history\n",
        "\n",
        "    plt.plot(history['accuracy'])        # accuracy\n",
        "    plt.plot(history['val_accuracy'])    # validation accuracy\n",
        "    if title is not None:\n",
        "        plt.title(title)\n",
        "    plt.ylabel('Accracy')\n",
        "    plt.xlabel('Epoch')\n",
        "    plt.legend(['Training data', 'Validation data'], loc=0)\n",
        "    # plt.show()\n",
        "\n",
        "\n",
        "def plot_loss(history, title=None):     # Loss Visualization\n",
        "    # summarize history for loss\n",
        "    if not isinstance(history, dict):\n",
        "        history = history.history\n",
        "\n",
        "    plt.plot(history['loss'])           # loss\n",
        "    plt.plot(history['val_loss'])       # validation\n",
        "    if title is not None:\n",
        "        plt.title(title)\n",
        "    plt.ylabel('Loss')\n",
        "    plt.xlabel('Epoch')\n",
        "    plt.legend(['Training data', 'Validation data'], loc=0)\n",
        "    # plt.show()\n",
        "\n"
      ],
      "metadata": {
        "id": "YjzQh5K4md8-"
      },
      "execution_count": null,
      "outputs": []
    },
    {
      "cell_type": "code",
      "source": [
        "    # Visualization\n",
        "plot_acc(history, '(a) Accuracy')  # 학습 경과에 따른 정확도 변화 추이\n",
        "plt.show()\n",
        "plot_loss(history, '(b) Loss')     # 학습 경과에 따른 손실값 변화 추이\n",
        "plt.show()\n"
      ],
      "metadata": {
        "id": "8ZfBsejPml6A"
      },
      "execution_count": null,
      "outputs": []
    }
  ]
}